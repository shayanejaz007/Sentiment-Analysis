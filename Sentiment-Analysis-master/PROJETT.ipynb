{
 "cells": [
  {
   "cell_type": "markdown",
   "id": "3728f111",
   "metadata": {},
   "source": [
    "# Importing Libraries"
   ]
  },
  {
   "cell_type": "code",
   "execution_count": 1,
   "id": "5b8e8878",
   "metadata": {},
   "outputs": [],
   "source": [
    "import pandas as pd\n",
    "import numpy as np\n",
    "import re\n",
    "import string\n",
    "import nltk\n",
    "from nltk.tokenize import word_tokenize\n",
    "from nltk.corpus import stopwords\n",
    "from nltk.stem import PorterStemmer, WordNetLemmatizer\n",
    "from sklearn.feature_extraction.text import CountVectorizer, TfidfVectorizer\n",
    "from sklearn.model_selection import train_test_split\n",
    "import matplotlib.pyplot as plt"
   ]
  },
  {
   "cell_type": "code",
   "execution_count": 2,
   "id": "3c16245c",
   "metadata": {},
   "outputs": [],
   "source": [
    "Train_data_file = \"twitter-training-data.txt\"\n",
    "Dev_data_file = \"twitter-dev-data.txt\"\n",
    "test_file1 = \"twitter-test1.txt\"\n",
    "test_file2 = \"twitter-test2.txt\"\n",
    "test_file3 = \"twitter-test3.txt\"\n",
    "\n",
    "cols = [\"tweet_id\", \"sentiment\", \"tweet_text\"]"
   ]
  },
  {
   "cell_type": "code",
   "execution_count": 3,
   "id": "0a229710",
   "metadata": {},
   "outputs": [
    {
     "data": {
      "text/plain": [
       "'twitter-test2.txt'"
      ]
     },
     "execution_count": 3,
     "metadata": {},
     "output_type": "execute_result"
    }
   ],
   "source": [
    "test_file2"
   ]
  },
  {
   "cell_type": "markdown",
   "id": "ee03b46d",
   "metadata": {},
   "source": [
    "## Defining a function for Visualizations"
   ]
  },
  {
   "cell_type": "code",
   "execution_count": 4,
   "id": "61052da5",
   "metadata": {},
   "outputs": [],
   "source": [
    "\n",
    "def plot_sentiment_distribution(data_file):\n",
    "    # read the data into a Pandas DataFrame\n",
    "    data = pd.read_csv(data_file, sep='\\t', header=None, names=cols)\n",
    "\n",
    "    # generate a frequency plot of the sentiment labels\n",
    "    data['sentiment'].value_counts().plot(kind='bar', figsize=(10,2))\n",
    "    plt.xlabel(\"Sentiment Label\")\n",
    "    plt.ylabel(\"Frequency\")\n",
    "    plt.title(data_file)\n",
    "    plt.show()\n"
   ]
  },
  {
   "cell_type": "markdown",
   "id": "56e43ebe",
   "metadata": {},
   "source": [
    "## Defining a function for preprocessing"
   ]
  },
  {
   "cell_type": "code",
   "execution_count": 5,
   "id": "24987d22",
   "metadata": {},
   "outputs": [],
   "source": [
    "def preprocess_text(text):\n",
    "    # Remove URLs, mentions, hashtags, punctuations, and special characters\n",
    "    text = re.sub(r'http\\S+', '', text)  # Remove URLs\n",
    "    text = re.sub(r'@[A-Za-z0-9]+', '', text)  # Remove mentions\n",
    "    text = re.sub(r'#', '', text)  # Remove hashtags\n",
    "    text = re.sub(r'[^\\w\\s]', '', text)  # Remove punctuations\n",
    "    text = re.sub(r'\\d+', '', text)  # Remove numbers\n",
    "    text = text.translate(str.maketrans('', '', string.punctuation))  # Remove special characters\n",
    "    # Convert to lowercase\n",
    "    text = text.lower()\n",
    "    # Tokenize the text\n",
    "    tokens = word_tokenize(text)\n",
    "    # Remove stop words\n",
    "    stop_words = set(stopwords.words('english'))\n",
    "    tokens = [token for token in tokens if not token in stop_words]\n",
    "    # Stem or lemmatize words\n",
    "    stemmer = PorterStemmer()\n",
    "    lemmatizer = WordNetLemmatizer()\n",
    "    tokens = [lemmatizer.lemmatize(token) for token in tokens]\n",
    "    # Join the tokens back into text\n",
    "    text = ' '.join(tokens)\n",
    "    return text"
   ]
  },
  {
   "cell_type": "markdown",
   "id": "a65014bc",
   "metadata": {},
   "source": [
    "## Visualizing and Reading the Data"
   ]
  },
  {
   "cell_type": "code",
   "execution_count": 6,
   "id": "f640d705",
   "metadata": {},
   "outputs": [
    {
     "data": {
      "text/html": [
       "<div>\n",
       "<style scoped>\n",
       "    .dataframe tbody tr th:only-of-type {\n",
       "        vertical-align: middle;\n",
       "    }\n",
       "\n",
       "    .dataframe tbody tr th {\n",
       "        vertical-align: top;\n",
       "    }\n",
       "\n",
       "    .dataframe thead th {\n",
       "        text-align: right;\n",
       "    }\n",
       "</style>\n",
       "<table border=\"1\" class=\"dataframe\">\n",
       "  <thead>\n",
       "    <tr style=\"text-align: right;\">\n",
       "      <th></th>\n",
       "      <th>tweet_id</th>\n",
       "      <th>sentiment</th>\n",
       "      <th>tweet_text</th>\n",
       "    </tr>\n",
       "  </thead>\n",
       "  <tbody>\n",
       "    <tr>\n",
       "      <th>0</th>\n",
       "      <td>335104872099066692</td>\n",
       "      <td>positive</td>\n",
       "      <td>Felt privileged to play Foo Fighters songs on ...</td>\n",
       "    </tr>\n",
       "    <tr>\n",
       "      <th>1</th>\n",
       "      <td>796528524030124618</td>\n",
       "      <td>positive</td>\n",
       "      <td>@AaqibAfzaal Pakistan may be an Islamic countr...</td>\n",
       "    </tr>\n",
       "    <tr>\n",
       "      <th>2</th>\n",
       "      <td>760964834217238632</td>\n",
       "      <td>positive</td>\n",
       "      <td>Happy Birthday to the coolest golfer in Bali! ...</td>\n",
       "    </tr>\n",
       "    <tr>\n",
       "      <th>3</th>\n",
       "      <td>147713180324524046</td>\n",
       "      <td>negative</td>\n",
       "      <td>@SimpplyA TMILLS is going to Tucson! But the 2...</td>\n",
       "    </tr>\n",
       "    <tr>\n",
       "      <th>4</th>\n",
       "      <td>732302280474120023</td>\n",
       "      <td>negative</td>\n",
       "      <td>Hmmmmm where are the #BlackLivesMatter when ma...</td>\n",
       "    </tr>\n",
       "  </tbody>\n",
       "</table>\n",
       "</div>"
      ],
      "text/plain": [
       "             tweet_id sentiment  \\\n",
       "0  335104872099066692  positive   \n",
       "1  796528524030124618  positive   \n",
       "2  760964834217238632  positive   \n",
       "3  147713180324524046  negative   \n",
       "4  732302280474120023  negative   \n",
       "\n",
       "                                          tweet_text  \n",
       "0  Felt privileged to play Foo Fighters songs on ...  \n",
       "1  @AaqibAfzaal Pakistan may be an Islamic countr...  \n",
       "2  Happy Birthday to the coolest golfer in Bali! ...  \n",
       "3  @SimpplyA TMILLS is going to Tucson! But the 2...  \n",
       "4  Hmmmmm where are the #BlackLivesMatter when ma...  "
      ]
     },
     "execution_count": 6,
     "metadata": {},
     "output_type": "execute_result"
    }
   ],
   "source": [
    "train_data = pd.read_csv(Train_data_file, sep='\\t', header=None, names=cols)\n",
    "train_data.head()"
   ]
  },
  {
   "cell_type": "code",
   "execution_count": 7,
   "id": "d8232cc2",
   "metadata": {},
   "outputs": [
    {
     "data": {
      "image/png": "[encoded data removed]",
      "text/plain": [
       "<Figure size 1000x200 with 1 Axes>"
      ]
     },
     "metadata": {},
     "output_type": "display_data"
    }
   ],
   "source": [
    "plot_sentiment_distribution(\"twitter-training-data.txt\")"
   ]
  },
  {
   "cell_type": "code",
   "execution_count": 8,
   "id": "c508380c",
   "metadata": {},
   "outputs": [
    {
     "data": {
      "text/html": [
       "<div>\n",
       "<style scoped>\n",
       "    .dataframe tbody tr th:only-of-type {\n",
       "        vertical-align: middle;\n",
       "    }\n",
       "\n",
       "    .dataframe tbody tr th {\n",
       "        vertical-align: top;\n",
       "    }\n",
       "\n",
       "    .dataframe thead th {\n",
       "        text-align: right;\n",
       "    }\n",
       "</style>\n",
       "<table border=\"1\" class=\"dataframe\">\n",
       "  <thead>\n",
       "    <tr style=\"text-align: right;\">\n",
       "      <th></th>\n",
       "      <th>tweet_id</th>\n",
       "      <th>sentiment</th>\n",
       "      <th>tweet_text</th>\n",
       "    </tr>\n",
       "  </thead>\n",
       "  <tbody>\n",
       "    <tr>\n",
       "      <th>0</th>\n",
       "      <td>262696992176304465</td>\n",
       "      <td>neutral</td>\n",
       "      <td>@Oirisheye Hey you! I'm gonna be in Dublin in ...</td>\n",
       "    </tr>\n",
       "    <tr>\n",
       "      <th>1</th>\n",
       "      <td>410734138242126311</td>\n",
       "      <td>positive</td>\n",
       "      <td>Literally so excited I'm going to a Sam Smith ...</td>\n",
       "    </tr>\n",
       "    <tr>\n",
       "      <th>2</th>\n",
       "      <td>237615985571058688</td>\n",
       "      <td>neutral</td>\n",
       "      <td>@WINDmobile Will there be an option to buy the...</td>\n",
       "    </tr>\n",
       "    <tr>\n",
       "      <th>3</th>\n",
       "      <td>90473590077188360</td>\n",
       "      <td>neutral</td>\n",
       "      <td>Our Little Ms. Philippines. 👏👏👏#littleMsPhilip...</td>\n",
       "    </tr>\n",
       "    <tr>\n",
       "      <th>4</th>\n",
       "      <td>450236582392850660</td>\n",
       "      <td>negative</td>\n",
       "      <td>@AngryRaiderFan I know. This, TPP, expanded wa...</td>\n",
       "    </tr>\n",
       "  </tbody>\n",
       "</table>\n",
       "</div>"
      ],
      "text/plain": [
       "             tweet_id sentiment  \\\n",
       "0  262696992176304465   neutral   \n",
       "1  410734138242126311  positive   \n",
       "2  237615985571058688   neutral   \n",
       "3   90473590077188360   neutral   \n",
       "4  450236582392850660  negative   \n",
       "\n",
       "                                          tweet_text  \n",
       "0  @Oirisheye Hey you! I'm gonna be in Dublin in ...  \n",
       "1  Literally so excited I'm going to a Sam Smith ...  \n",
       "2  @WINDmobile Will there be an option to buy the...  \n",
       "3  Our Little Ms. Philippines. 👏👏👏#littleMsPhilip...  \n",
       "4  @AngryRaiderFan I know. This, TPP, expanded wa...  "
      ]
     },
     "execution_count": 8,
     "metadata": {},
     "output_type": "execute_result"
    }
   ],
   "source": [
    "dev_data = pd.read_csv(\"twitter-dev-data.txt\", sep='\\t', header=None, names=cols)\n",
    "dev_data.head()"
   ]
  },
  {
   "cell_type": "code",
   "execution_count": 9,
   "id": "cbd57853",
   "metadata": {},
   "outputs": [
    {
     "data": {
      "image/png": "[encoded data removed]",
      "text/plain": [
       "<Figure size 1000x200 with 1 Axes>"
      ]
     },
     "metadata": {},
     "output_type": "display_data"
    }
   ],
   "source": [
    "plot_sentiment_distribution(\"twitter-dev-data.txt\")"
   ]
  },
  {
   "cell_type": "code",
   "execution_count": 10,
   "id": "ee4d33ed",
   "metadata": {},
   "outputs": [
    {
     "data": {
      "text/html": [
       "<div>\n",
       "<style scoped>\n",
       "    .dataframe tbody tr th:only-of-type {\n",
       "        vertical-align: middle;\n",
       "    }\n",
       "\n",
       "    .dataframe tbody tr th {\n",
       "        vertical-align: top;\n",
       "    }\n",
       "\n",
       "    .dataframe thead th {\n",
       "        text-align: right;\n",
       "    }\n",
       "</style>\n",
       "<table border=\"1\" class=\"dataframe\">\n",
       "  <thead>\n",
       "    <tr style=\"text-align: right;\">\n",
       "      <th></th>\n",
       "      <th>tweet_id</th>\n",
       "      <th>sentiment</th>\n",
       "      <th>tweet_text</th>\n",
       "    </tr>\n",
       "  </thead>\n",
       "  <tbody>\n",
       "    <tr>\n",
       "      <th>0</th>\n",
       "      <td>163361196206957578</td>\n",
       "      <td>neutral</td>\n",
       "      <td>Candids: Heading to the Chateau Marmont in Wes...</td>\n",
       "    </tr>\n",
       "    <tr>\n",
       "      <th>1</th>\n",
       "      <td>768006053969268950</td>\n",
       "      <td>negative</td>\n",
       "      <td>@Dont__KAY_me omg same I was reading it in sch...</td>\n",
       "    </tr>\n",
       "    <tr>\n",
       "      <th>2</th>\n",
       "      <td>742616104384772304</td>\n",
       "      <td>neutral</td>\n",
       "      <td>Watching MTV  Hits! The Wanted Chasing the sun!</td>\n",
       "    </tr>\n",
       "    <tr>\n",
       "      <th>3</th>\n",
       "      <td>102313285628711403</td>\n",
       "      <td>neutral</td>\n",
       "      <td>Bing one-ups knowledge graph, hires Encyclopae...</td>\n",
       "    </tr>\n",
       "    <tr>\n",
       "      <th>4</th>\n",
       "      <td>653274888624828198</td>\n",
       "      <td>neutral</td>\n",
       "      <td>On Thursday, concealed-carry gun license holde...</td>\n",
       "    </tr>\n",
       "  </tbody>\n",
       "</table>\n",
       "</div>"
      ],
      "text/plain": [
       "             tweet_id sentiment  \\\n",
       "0  163361196206957578   neutral   \n",
       "1  768006053969268950  negative   \n",
       "2  742616104384772304   neutral   \n",
       "3  102313285628711403   neutral   \n",
       "4  653274888624828198   neutral   \n",
       "\n",
       "                                          tweet_text  \n",
       "0  Candids: Heading to the Chateau Marmont in Wes...  \n",
       "1  @Dont__KAY_me omg same I was reading it in sch...  \n",
       "2    Watching MTV  Hits! The Wanted Chasing the sun!  \n",
       "3  Bing one-ups knowledge graph, hires Encyclopae...  \n",
       "4  On Thursday, concealed-carry gun license holde...  "
      ]
     },
     "execution_count": 10,
     "metadata": {},
     "output_type": "execute_result"
    }
   ],
   "source": [
    "test_data1 = pd.read_csv(test_file1, sep='\\t', header=None, names=cols)\n",
    "test_data1.head()"
   ]
  },
  {
   "cell_type": "code",
   "execution_count": 11,
   "id": "8e51714c",
   "metadata": {},
   "outputs": [
    {
     "data": {
      "image/png": "[encoded data removed]",
      "text/plain": [
       "<Figure size 1000x200 with 1 Axes>"
      ]
     },
     "metadata": {},
     "output_type": "display_data"
    }
   ],
   "source": [
    "plot_sentiment_distribution(\"twitter-test1.txt\")"
   ]
  },
  {
   "cell_type": "code",
   "execution_count": 12,
   "id": "5159af89",
   "metadata": {},
   "outputs": [
    {
     "data": {
      "text/html": [
       "<div>\n",
       "<style scoped>\n",
       "    .dataframe tbody tr th:only-of-type {\n",
       "        vertical-align: middle;\n",
       "    }\n",
       "\n",
       "    .dataframe tbody tr th {\n",
       "        vertical-align: top;\n",
       "    }\n",
       "\n",
       "    .dataframe thead th {\n",
       "        text-align: right;\n",
       "    }\n",
       "</style>\n",
       "<table border=\"1\" class=\"dataframe\">\n",
       "  <thead>\n",
       "    <tr style=\"text-align: right;\">\n",
       "      <th></th>\n",
       "      <th>tweet_id</th>\n",
       "      <th>sentiment</th>\n",
       "      <th>tweet_text</th>\n",
       "    </tr>\n",
       "  </thead>\n",
       "  <tbody>\n",
       "    <tr>\n",
       "      <th>0</th>\n",
       "      <td>364323072843019872</td>\n",
       "      <td>neutral</td>\n",
       "      <td>Anybody going to that 4th of July pool party i...</td>\n",
       "    </tr>\n",
       "    <tr>\n",
       "      <th>1</th>\n",
       "      <td>802725906723804599</td>\n",
       "      <td>positive</td>\n",
       "      <td>The band enjoyed a day of sightseeing in Berli...</td>\n",
       "    </tr>\n",
       "    <tr>\n",
       "      <th>2</th>\n",
       "      <td>250002604645092879</td>\n",
       "      <td>positive</td>\n",
       "      <td>@wintersleep saw you play at Bluesfest last su...</td>\n",
       "    </tr>\n",
       "    <tr>\n",
       "      <th>3</th>\n",
       "      <td>510023256502999912</td>\n",
       "      <td>neutral</td>\n",
       "      <td>The Kee to Bala just got Drizzy: Intimate conc...</td>\n",
       "    </tr>\n",
       "    <tr>\n",
       "      <th>4</th>\n",
       "      <td>196017824322271173</td>\n",
       "      <td>neutral</td>\n",
       "      <td>Going to see Richard Dawkins &amp;amp; Mehdi Hasan...</td>\n",
       "    </tr>\n",
       "  </tbody>\n",
       "</table>\n",
       "</div>"
      ],
      "text/plain": [
       "             tweet_id sentiment  \\\n",
       "0  364323072843019872   neutral   \n",
       "1  802725906723804599  positive   \n",
       "2  250002604645092879  positive   \n",
       "3  510023256502999912   neutral   \n",
       "4  196017824322271173   neutral   \n",
       "\n",
       "                                          tweet_text  \n",
       "0  Anybody going to that 4th of July pool party i...  \n",
       "1  The band enjoyed a day of sightseeing in Berli...  \n",
       "2  @wintersleep saw you play at Bluesfest last su...  \n",
       "3  The Kee to Bala just got Drizzy: Intimate conc...  \n",
       "4  Going to see Richard Dawkins &amp; Mehdi Hasan...  "
      ]
     },
     "execution_count": 12,
     "metadata": {},
     "output_type": "execute_result"
    }
   ],
   "source": [
    "test_data2 = pd.read_csv(test_file2, sep='\\t', header=None, names=cols)\n",
    "test_data2.head()"
   ]
  },
  {
   "cell_type": "code",
   "execution_count": 13,
   "id": "5a9ac699",
   "metadata": {},
   "outputs": [
    {
     "data": {
      "image/png": "[encoded data removed]",
      "text/plain": [
       "<Figure size 1000x200 with 1 Axes>"
      ]
     },
     "metadata": {},
     "output_type": "display_data"
    }
   ],
   "source": [
    "plot_sentiment_distribution(\"twitter-test2.txt\")"
   ]
  },
  {
   "cell_type": "code",
   "execution_count": 14,
   "id": "81f88ef8",
   "metadata": {},
   "outputs": [
    {
     "data": {
      "text/html": [
       "<div>\n",
       "<style scoped>\n",
       "    .dataframe tbody tr th:only-of-type {\n",
       "        vertical-align: middle;\n",
       "    }\n",
       "\n",
       "    .dataframe tbody tr th {\n",
       "        vertical-align: top;\n",
       "    }\n",
       "\n",
       "    .dataframe thead th {\n",
       "        text-align: right;\n",
       "    }\n",
       "</style>\n",
       "<table border=\"1\" class=\"dataframe\">\n",
       "  <thead>\n",
       "    <tr style=\"text-align: right;\">\n",
       "      <th></th>\n",
       "      <th>tweet_id</th>\n",
       "      <th>sentiment</th>\n",
       "      <th>tweet_text</th>\n",
       "    </tr>\n",
       "  </thead>\n",
       "  <tbody>\n",
       "    <tr>\n",
       "      <th>0</th>\n",
       "      <td>63115054245201986</td>\n",
       "      <td>neutral</td>\n",
       "      <td>@MoodieNathan Yeah dont think 8 or 9 like some...</td>\n",
       "    </tr>\n",
       "    <tr>\n",
       "      <th>1</th>\n",
       "      <td>192028253675695783</td>\n",
       "      <td>negative</td>\n",
       "      <td>Very Unfair: West Indies players to fly back o...</td>\n",
       "    </tr>\n",
       "    <tr>\n",
       "      <th>2</th>\n",
       "      <td>288283057533261865</td>\n",
       "      <td>positive</td>\n",
       "      <td>@TerryFoster971 @MikeValenti971 Ben Affleck is...</td>\n",
       "    </tr>\n",
       "    <tr>\n",
       "      <th>3</th>\n",
       "      <td>250327270502030803</td>\n",
       "      <td>neutral</td>\n",
       "      <td>Subscribe to Nash's channel to see when his ne...</td>\n",
       "    </tr>\n",
       "    <tr>\n",
       "      <th>4</th>\n",
       "      <td>573852753082126431</td>\n",
       "      <td>positive</td>\n",
       "      <td>Hull City manager Steve Bruce says his side is...</td>\n",
       "    </tr>\n",
       "  </tbody>\n",
       "</table>\n",
       "</div>"
      ],
      "text/plain": [
       "             tweet_id sentiment  \\\n",
       "0   63115054245201986   neutral   \n",
       "1  192028253675695783  negative   \n",
       "2  288283057533261865  positive   \n",
       "3  250327270502030803   neutral   \n",
       "4  573852753082126431  positive   \n",
       "\n",
       "                                          tweet_text  \n",
       "0  @MoodieNathan Yeah dont think 8 or 9 like some...  \n",
       "1  Very Unfair: West Indies players to fly back o...  \n",
       "2  @TerryFoster971 @MikeValenti971 Ben Affleck is...  \n",
       "3  Subscribe to Nash's channel to see when his ne...  \n",
       "4  Hull City manager Steve Bruce says his side is...  "
      ]
     },
     "execution_count": 14,
     "metadata": {},
     "output_type": "execute_result"
    }
   ],
   "source": [
    "test_data3 = pd.read_csv(test_file3, sep='\\t', header=None, names=cols)\n",
    "test_data3.head()"
   ]
  },
  {
   "cell_type": "code",
   "execution_count": 15,
   "id": "aeda7b6b",
   "metadata": {},
   "outputs": [
    {
     "data": {
      "image/png": "[encoded data removed]",
      "text/plain": [
       "<Figure size 1000x200 with 1 Axes>"
      ]
     },
     "metadata": {},
     "output_type": "display_data"
    }
   ],
   "source": [
    "plot_sentiment_distribution(\"twitter-test3.txt\")"
   ]
  },
  {
   "cell_type": "markdown",
   "id": "32231e24",
   "metadata": {},
   "source": [
    "## Applying preprocessing to Data"
   ]
  },
  {
   "cell_type": "code",
   "execution_count": 16,
   "id": "2a488804",
   "metadata": {},
   "outputs": [
    {
     "name": "stderr",
     "output_type": "stream",
     "text": [
      "[nltk_data] Downloading package wordnet to\n",
      "[nltk_data]     C:\\Users\\areeb\\AppData\\Roaming\\nltk_data...\n",
      "[nltk_data]   Package wordnet is already up-to-date!\n"
     ]
    },
    {
     "data": {
      "text/plain": [
       "True"
      ]
     },
     "execution_count": 16,
     "metadata": {},
     "output_type": "execute_result"
    }
   ],
   "source": [
    "nltk.download('wordnet')"
   ]
  },
  {
   "cell_type": "code",
   "execution_count": 17,
   "id": "d2e2b01c",
   "metadata": {},
   "outputs": [
    {
     "name": "stderr",
     "output_type": "stream",
     "text": [
      "[nltk_data] Downloading package omw to\n",
      "[nltk_data]     C:\\Users\\areeb\\AppData\\Roaming\\nltk_data...\n",
      "[nltk_data]   Package omw is already up-to-date!\n"
     ]
    },
    {
     "data": {
      "text/plain": [
       "True"
      ]
     },
     "execution_count": 17,
     "metadata": {},
     "output_type": "execute_result"
    }
   ],
   "source": [
    "nltk.download('omw')"
   ]
  },
  {
   "cell_type": "code",
   "execution_count": 18,
   "id": "3fd28472",
   "metadata": {},
   "outputs": [
    {
     "name": "stderr",
     "output_type": "stream",
     "text": [
      "[nltk_data] Downloading package omw-1.4 to\n",
      "[nltk_data]     C:\\Users\\areeb\\AppData\\Roaming\\nltk_data...\n",
      "[nltk_data]   Package omw-1.4 is already up-to-date!\n"
     ]
    },
    {
     "data": {
      "text/plain": [
       "True"
      ]
     },
     "execution_count": 18,
     "metadata": {},
     "output_type": "execute_result"
    }
   ],
   "source": [
    "nltk.download('omw-1.4')"
   ]
  },
  {
   "cell_type": "code",
   "execution_count": 19,
   "id": "0bdfc19c",
   "metadata": {},
   "outputs": [],
   "source": [
    "train_data['clean_tweet_text'] = train_data['tweet_text'].apply(preprocess_text)\n",
    "dev_data['clean_tweet_text'] = dev_data['tweet_text'].apply(preprocess_text)\n",
    "test_data1['clean_tweet_text'] = test_data1['tweet_text'].apply(preprocess_text)\n",
    "test_data2['clean_tweet_text'] = test_data2['tweet_text'].apply(preprocess_text)\n",
    "test_data3['clean_tweet_text'] = test_data3['tweet_text'].apply(preprocess_text)"
   ]
  },
  {
   "cell_type": "code",
   "execution_count": 20,
   "id": "2f7a4610",
   "metadata": {},
   "outputs": [
    {
     "data": {
      "text/html": [
       "<div>\n",
       "<style scoped>\n",
       "    .dataframe tbody tr th:only-of-type {\n",
       "        vertical-align: middle;\n",
       "    }\n",
       "\n",
       "    .dataframe tbody tr th {\n",
       "        vertical-align: top;\n",
       "    }\n",
       "\n",
       "    .dataframe thead th {\n",
       "        text-align: right;\n",
       "    }\n",
       "</style>\n",
       "<table border=\"1\" class=\"dataframe\">\n",
       "  <thead>\n",
       "    <tr style=\"text-align: right;\">\n",
       "      <th></th>\n",
       "      <th>tweet_id</th>\n",
       "      <th>sentiment</th>\n",
       "      <th>tweet_text</th>\n",
       "      <th>clean_tweet_text</th>\n",
       "    </tr>\n",
       "  </thead>\n",
       "  <tbody>\n",
       "    <tr>\n",
       "      <th>0</th>\n",
       "      <td>335104872099066692</td>\n",
       "      <td>positive</td>\n",
       "      <td>Felt privileged to play Foo Fighters songs on ...</td>\n",
       "      <td>felt privileged play foo fighter song guitar t...</td>\n",
       "    </tr>\n",
       "    <tr>\n",
       "      <th>1</th>\n",
       "      <td>796528524030124618</td>\n",
       "      <td>positive</td>\n",
       "      <td>@AaqibAfzaal Pakistan may be an Islamic countr...</td>\n",
       "      <td>pakistan may islamic country der lot true musl...</td>\n",
       "    </tr>\n",
       "    <tr>\n",
       "      <th>2</th>\n",
       "      <td>760964834217238632</td>\n",
       "      <td>positive</td>\n",
       "      <td>Happy Birthday to the coolest golfer in Bali! ...</td>\n",
       "      <td>happy birthday coolest golfer bali may become ...</td>\n",
       "    </tr>\n",
       "    <tr>\n",
       "      <th>3</th>\n",
       "      <td>147713180324524046</td>\n",
       "      <td>negative</td>\n",
       "      <td>@SimpplyA TMILLS is going to Tucson! But the 2...</td>\n",
       "      <td>tmills going tucson th thursday</td>\n",
       "    </tr>\n",
       "    <tr>\n",
       "      <th>4</th>\n",
       "      <td>732302280474120023</td>\n",
       "      <td>negative</td>\n",
       "      <td>Hmmmmm where are the #BlackLivesMatter when ma...</td>\n",
       "      <td>hmmmmm blacklivesmatter matter like rise kid d...</td>\n",
       "    </tr>\n",
       "    <tr>\n",
       "      <th>...</th>\n",
       "      <td>...</td>\n",
       "      <td>...</td>\n",
       "      <td>...</td>\n",
       "      <td>...</td>\n",
       "    </tr>\n",
       "    <tr>\n",
       "      <th>45021</th>\n",
       "      <td>660374218263817235</td>\n",
       "      <td>neutral</td>\n",
       "      <td>Sunday Cinema | Paul McCartney &amp;amp; David Gil...</td>\n",
       "      <td>sunday cinema paul mccartney amp david gilmour...</td>\n",
       "    </tr>\n",
       "    <tr>\n",
       "      <th>45022</th>\n",
       "      <td>739323365061217061</td>\n",
       "      <td>neutral</td>\n",
       "      <td>14-Aug  The day of independence,  The day of S...</td>\n",
       "      <td>aug day independence day sacrifice muslim vict...</td>\n",
       "    </tr>\n",
       "    <tr>\n",
       "      <th>45023</th>\n",
       "      <td>681369726697754114</td>\n",
       "      <td>positive</td>\n",
       "      <td>9 September has arrived, which means Apple's n...</td>\n",
       "      <td>september arrived mean apple new iphone hour a...</td>\n",
       "    </tr>\n",
       "    <tr>\n",
       "      <th>45024</th>\n",
       "      <td>922217029064536808</td>\n",
       "      <td>positive</td>\n",
       "      <td>So I'll see you all tomorrow for some fun fill...</td>\n",
       "      <td>ill see tomorrow fun filled feeding league pro...</td>\n",
       "    </tr>\n",
       "    <tr>\n",
       "      <th>45025</th>\n",
       "      <td>606913141028836185</td>\n",
       "      <td>neutral</td>\n",
       "      <td>Alright: who's choosing Paul McCartney over th...</td>\n",
       "      <td>alright who choosing paul mccartney weeknd tom...</td>\n",
       "    </tr>\n",
       "  </tbody>\n",
       "</table>\n",
       "<p>45026 rows × 4 columns</p>\n",
       "</div>"
      ],
      "text/plain": [
       "                 tweet_id sentiment  \\\n",
       "0      335104872099066692  positive   \n",
       "1      796528524030124618  positive   \n",
       "2      760964834217238632  positive   \n",
       "3      147713180324524046  negative   \n",
       "4      732302280474120023  negative   \n",
       "...                   ...       ...   \n",
       "45021  660374218263817235   neutral   \n",
       "45022  739323365061217061   neutral   \n",
       "45023  681369726697754114  positive   \n",
       "45024  922217029064536808  positive   \n",
       "45025  606913141028836185   neutral   \n",
       "\n",
       "                                              tweet_text  \\\n",
       "0      Felt privileged to play Foo Fighters songs on ...   \n",
       "1      @AaqibAfzaal Pakistan may be an Islamic countr...   \n",
       "2      Happy Birthday to the coolest golfer in Bali! ...   \n",
       "3      @SimpplyA TMILLS is going to Tucson! But the 2...   \n",
       "4      Hmmmmm where are the #BlackLivesMatter when ma...   \n",
       "...                                                  ...   \n",
       "45021  Sunday Cinema | Paul McCartney &amp; David Gil...   \n",
       "45022  14-Aug  The day of independence,  The day of S...   \n",
       "45023  9 September has arrived, which means Apple's n...   \n",
       "45024  So I'll see you all tomorrow for some fun fill...   \n",
       "45025  Alright: who's choosing Paul McCartney over th...   \n",
       "\n",
       "                                        clean_tweet_text  \n",
       "0      felt privileged play foo fighter song guitar t...  \n",
       "1      pakistan may islamic country der lot true musl...  \n",
       "2      happy birthday coolest golfer bali may become ...  \n",
       "3                        tmills going tucson th thursday  \n",
       "4      hmmmmm blacklivesmatter matter like rise kid d...  \n",
       "...                                                  ...  \n",
       "45021  sunday cinema paul mccartney amp david gilmour...  \n",
       "45022  aug day independence day sacrifice muslim vict...  \n",
       "45023  september arrived mean apple new iphone hour a...  \n",
       "45024  ill see tomorrow fun filled feeding league pro...  \n",
       "45025  alright who choosing paul mccartney weeknd tom...  \n",
       "\n",
       "[45026 rows x 4 columns]"
      ]
     },
     "execution_count": 20,
     "metadata": {},
     "output_type": "execute_result"
    }
   ],
   "source": [
    "train_data"
   ]
  },
  {
   "cell_type": "code",
   "execution_count": 21,
   "id": "bf0a2f85",
   "metadata": {},
   "outputs": [
    {
     "data": {
      "text/plain": [
       "0       candids heading chateau marmont west hollywood...\n",
       "1                  kayme omg reading school pssas sat cry\n",
       "2                     watching mtv hit wanted chasing sun\n",
       "3       bing oneups knowledge graph hire encyclopaedia...\n",
       "4       thursday concealedcarry gun license holder giv...\n",
       "                              ...                        \n",
       "3526    right could end picking sidney crosby st rou w...\n",
       "3527    think continuing upa mamata chief minister tak...\n",
       "3528    lady come throw as nigga come throw cash hypel...\n",
       "3529                         going laidback luke tomorrow\n",
       "3530    center stage mark gordon live tues pm pst kxlu...\n",
       "Name: clean_tweet_text, Length: 3531, dtype: object"
      ]
     },
     "execution_count": 21,
     "metadata": {},
     "output_type": "execute_result"
    }
   ],
   "source": [
    "test_data1['clean_tweet_text']"
   ]
  },
  {
   "cell_type": "code",
   "execution_count": 27,
   "id": "f4701918",
   "metadata": {},
   "outputs": [],
   "source": [
    "train_data.drop(train_data[train_data['sentiment'] == 'neutral'].index, inplace=True)\n",
    "dev_data.drop(dev_data[dev_data['sentiment'] == 'neutral'].index, inplace=True)\n",
    "test_data1.drop(test_data1[test_data1['sentiment'] == 'neutral'].index, inplace=True)\n",
    "test_data2.drop(test_data2[test_data2['sentiment'] == 'neutral'].index, inplace=True)\n",
    "test_data3.drop(test_data3[test_data3['sentiment'] == 'neutral'].index, inplace=True)"
   ]
  },
  {
   "cell_type": "code",
   "execution_count": 28,
   "id": "1290ab30",
   "metadata": {},
   "outputs": [
    {
     "data": {
      "text/html": [
       "<div>\n",
       "<style scoped>\n",
       "    .dataframe tbody tr th:only-of-type {\n",
       "        vertical-align: middle;\n",
       "    }\n",
       "\n",
       "    .dataframe tbody tr th {\n",
       "        vertical-align: top;\n",
       "    }\n",
       "\n",
       "    .dataframe thead th {\n",
       "        text-align: right;\n",
       "    }\n",
       "</style>\n",
       "<table border=\"1\" class=\"dataframe\">\n",
       "  <thead>\n",
       "    <tr style=\"text-align: right;\">\n",
       "      <th></th>\n",
       "      <th>tweet_id</th>\n",
       "      <th>sentiment</th>\n",
       "      <th>tweet_text</th>\n",
       "      <th>clean_tweet_text</th>\n",
       "    </tr>\n",
       "  </thead>\n",
       "  <tbody>\n",
       "    <tr>\n",
       "      <th>0</th>\n",
       "      <td>335104872099066692</td>\n",
       "      <td>positive</td>\n",
       "      <td>Felt privileged to play Foo Fighters songs on ...</td>\n",
       "      <td>felt privileged play foo fighter song guitar t...</td>\n",
       "    </tr>\n",
       "    <tr>\n",
       "      <th>1</th>\n",
       "      <td>796528524030124618</td>\n",
       "      <td>positive</td>\n",
       "      <td>@AaqibAfzaal Pakistan may be an Islamic countr...</td>\n",
       "      <td>pakistan may islamic country der lot true musl...</td>\n",
       "    </tr>\n",
       "    <tr>\n",
       "      <th>2</th>\n",
       "      <td>760964834217238632</td>\n",
       "      <td>positive</td>\n",
       "      <td>Happy Birthday to the coolest golfer in Bali! ...</td>\n",
       "      <td>happy birthday coolest golfer bali may become ...</td>\n",
       "    </tr>\n",
       "    <tr>\n",
       "      <th>3</th>\n",
       "      <td>147713180324524046</td>\n",
       "      <td>negative</td>\n",
       "      <td>@SimpplyA TMILLS is going to Tucson! But the 2...</td>\n",
       "      <td>tmills going tucson th thursday</td>\n",
       "    </tr>\n",
       "    <tr>\n",
       "      <th>4</th>\n",
       "      <td>732302280474120023</td>\n",
       "      <td>negative</td>\n",
       "      <td>Hmmmmm where are the #BlackLivesMatter when ma...</td>\n",
       "      <td>hmmmmm blacklivesmatter matter like rise kid d...</td>\n",
       "    </tr>\n",
       "    <tr>\n",
       "      <th>...</th>\n",
       "      <td>...</td>\n",
       "      <td>...</td>\n",
       "      <td>...</td>\n",
       "      <td>...</td>\n",
       "    </tr>\n",
       "    <tr>\n",
       "      <th>45017</th>\n",
       "      <td>638667710398891068</td>\n",
       "      <td>positive</td>\n",
       "      <td>Someone should tell frank ocean that tomorrow ...</td>\n",
       "      <td>someone tell frank ocean tomorrow would great ...</td>\n",
       "    </tr>\n",
       "    <tr>\n",
       "      <th>45018</th>\n",
       "      <td>103623466461181268</td>\n",
       "      <td>positive</td>\n",
       "      <td>All I know is I'm going to see Sam Smith tomor...</td>\n",
       "      <td>know im going see sam smith tomorrow like hone...</td>\n",
       "    </tr>\n",
       "    <tr>\n",
       "      <th>45019</th>\n",
       "      <td>545294706128695213</td>\n",
       "      <td>positive</td>\n",
       "      <td>@JBcommentator Zlatan has many career highligh...</td>\n",
       "      <td>zlatan many career highlightsi think may trump...</td>\n",
       "    </tr>\n",
       "    <tr>\n",
       "      <th>45023</th>\n",
       "      <td>681369726697754114</td>\n",
       "      <td>positive</td>\n",
       "      <td>9 September has arrived, which means Apple's n...</td>\n",
       "      <td>september arrived mean apple new iphone hour a...</td>\n",
       "    </tr>\n",
       "    <tr>\n",
       "      <th>45024</th>\n",
       "      <td>922217029064536808</td>\n",
       "      <td>positive</td>\n",
       "      <td>So I'll see you all tomorrow for some fun fill...</td>\n",
       "      <td>ill see tomorrow fun filled feeding league pro...</td>\n",
       "    </tr>\n",
       "  </tbody>\n",
       "</table>\n",
       "<p>24277 rows × 4 columns</p>\n",
       "</div>"
      ],
      "text/plain": [
       "                 tweet_id sentiment  \\\n",
       "0      335104872099066692  positive   \n",
       "1      796528524030124618  positive   \n",
       "2      760964834217238632  positive   \n",
       "3      147713180324524046  negative   \n",
       "4      732302280474120023  negative   \n",
       "...                   ...       ...   \n",
       "45017  638667710398891068  positive   \n",
       "45018  103623466461181268  positive   \n",
       "45019  545294706128695213  positive   \n",
       "45023  681369726697754114  positive   \n",
       "45024  922217029064536808  positive   \n",
       "\n",
       "                                              tweet_text  \\\n",
       "0      Felt privileged to play Foo Fighters songs on ...   \n",
       "1      @AaqibAfzaal Pakistan may be an Islamic countr...   \n",
       "2      Happy Birthday to the coolest golfer in Bali! ...   \n",
       "3      @SimpplyA TMILLS is going to Tucson! But the 2...   \n",
       "4      Hmmmmm where are the #BlackLivesMatter when ma...   \n",
       "...                                                  ...   \n",
       "45017  Someone should tell frank ocean that tomorrow ...   \n",
       "45018  All I know is I'm going to see Sam Smith tomor...   \n",
       "45019  @JBcommentator Zlatan has many career highligh...   \n",
       "45023  9 September has arrived, which means Apple's n...   \n",
       "45024  So I'll see you all tomorrow for some fun fill...   \n",
       "\n",
       "                                        clean_tweet_text  \n",
       "0      felt privileged play foo fighter song guitar t...  \n",
       "1      pakistan may islamic country der lot true musl...  \n",
       "2      happy birthday coolest golfer bali may become ...  \n",
       "3                        tmills going tucson th thursday  \n",
       "4      hmmmmm blacklivesmatter matter like rise kid d...  \n",
       "...                                                  ...  \n",
       "45017  someone tell frank ocean tomorrow would great ...  \n",
       "45018  know im going see sam smith tomorrow like hone...  \n",
       "45019  zlatan many career highlightsi think may trump...  \n",
       "45023  september arrived mean apple new iphone hour a...  \n",
       "45024  ill see tomorrow fun filled feeding league pro...  \n",
       "\n",
       "[24277 rows x 4 columns]"
      ]
     },
     "execution_count": 28,
     "metadata": {},
     "output_type": "execute_result"
    }
   ],
   "source": [
    "train_data"
   ]
  },
  {
   "cell_type": "code",
   "execution_count": 22,
   "id": "2f409923",
   "metadata": {},
   "outputs": [],
   "source": [
    "# test_data1['clean_tweet_text']\n",
    "# test_data2['clean_tweet_text']\n",
    "# test_data3['clean_tweet_text']"
   ]
  },
  {
   "cell_type": "markdown",
   "id": "80fde8d0",
   "metadata": {},
   "source": [
    "## Train test Splits"
   ]
  },
  {
   "cell_type": "code",
   "execution_count": 23,
   "id": "fa6c7e2c",
   "metadata": {},
   "outputs": [],
   "source": [
    "# X_train, X_val, y_train, y_val = train_test_split(train_data['clean_tweet_text'], train_data['sentiment'], test_size=0.2, random_state=42)"
   ]
  },
  {
   "cell_type": "code",
   "execution_count": 29,
   "id": "986292cb",
   "metadata": {},
   "outputs": [],
   "source": [
    "from sklearn.feature_extraction.text import TfidfVectorizer\n",
    "\n",
    "vectorizer = TfidfVectorizer()\n",
    "X_train = vectorizer.fit_transform(train_data['clean_tweet_text'])\n",
    "X_dev = vectorizer.transform(dev_data['clean_tweet_text'])\n",
    "X_test = vectorizer.transform(test_data1['clean_tweet_text'])"
   ]
  },
  {
   "cell_type": "code",
   "execution_count": 30,
   "id": "207f559c",
   "metadata": {},
   "outputs": [],
   "source": [
    "from sklearn.preprocessing import LabelEncoder\n",
    "\n",
    "le = LabelEncoder()\n",
    "y_train = le.fit_transform(train_data['sentiment'])\n",
    "y_dev = le.transform(dev_data['sentiment'])"
   ]
  },
  {
   "cell_type": "markdown",
   "id": "f9e52b20",
   "metadata": {},
   "source": [
    "## TRAINING FOR NAIVE BAYS"
   ]
  },
  {
   "cell_type": "code",
   "execution_count": 31,
   "id": "07ea6c58",
   "metadata": {},
   "outputs": [
    {
     "data": {
      "text/plain": [
       "MultinomialNB()"
      ]
     },
     "execution_count": 31,
     "metadata": {},
     "output_type": "execute_result"
    }
   ],
   "source": [
    "from sklearn.naive_bayes import MultinomialNB\n",
    "from sklearn.metrics import classification_report\n",
    "target_names = le.classes_.astype(str).tolist()\n",
    "clf = MultinomialNB()\n",
    "clf.fit(X_train, y_train)"
   ]
  },
  {
   "cell_type": "code",
   "execution_count": 32,
   "id": "9a2bd0b9",
   "metadata": {},
   "outputs": [
    {
     "name": "stdout",
     "output_type": "stream",
     "text": [
      "              precision    recall  f1-score   support\n",
      "\n",
      "    negative       0.90      0.52      0.66       378\n",
      "    positive       0.79      0.97      0.87       703\n",
      "\n",
      "    accuracy                           0.81      1081\n",
      "   macro avg       0.84      0.74      0.76      1081\n",
      "weighted avg       0.83      0.81      0.80      1081\n",
      "\n"
     ]
    }
   ],
   "source": [
    "y_dev_pred = clf.predict(X_dev)\n",
    "print(classification_report(y_dev, y_dev_pred, target_names=target_names))"
   ]
  },
  {
   "cell_type": "code",
   "execution_count": 33,
   "id": "8048f301",
   "metadata": {},
   "outputs": [],
   "source": [
    "test_data1['sentiment_pred'] = clf.predict(vectorizer.transform(test_data1['clean_tweet_text']))\n",
    "test_data2['sentiment_pred'] = clf.predict(vectorizer.transform(test_data2['clean_tweet_text']))\n",
    "test_data3['sentiment_pred'] = clf.predict(vectorizer.transform(test_data3['clean_tweet_text']))"
   ]
  },
  {
   "cell_type": "code",
   "execution_count": 34,
   "id": "49007507",
   "metadata": {},
   "outputs": [],
   "source": [
    "test_data1[\"sentiment\"] = le.fit_transform(test_data1[\"sentiment\"])\n",
    "test_data2[\"sentiment\"] = le.fit_transform(test_data2[\"sentiment\"])\n",
    "test_data3[\"sentiment\"] = le.fit_transform(test_data3[\"sentiment\"])"
   ]
  },
  {
   "cell_type": "code",
   "execution_count": 35,
   "id": "843c3e22",
   "metadata": {},
   "outputs": [
    {
     "name": "stdout",
     "output_type": "stream",
     "text": [
      "              precision    recall  f1-score   support\n",
      "\n",
      "    negative       0.91      0.19      0.32       557\n",
      "    positive       0.76      0.99      0.86      1470\n",
      "\n",
      "    accuracy                           0.77      2027\n",
      "   macro avg       0.84      0.59      0.59      2027\n",
      "weighted avg       0.80      0.77      0.71      2027\n",
      "\n"
     ]
    }
   ],
   "source": [
    "from sklearn.metrics import classification_report\n",
    "print(classification_report(test_data1[\"sentiment\"], test_data1[\"sentiment_pred\"], target_names=target_names))"
   ]
  },
  {
   "cell_type": "code",
   "execution_count": 36,
   "id": "dfa4a99b",
   "metadata": {},
   "outputs": [
    {
     "name": "stdout",
     "output_type": "stream",
     "text": [
      "              precision    recall  f1-score   support\n",
      "\n",
      "    negative       0.85      0.08      0.15       202\n",
      "    positive       0.84      1.00      0.91       982\n",
      "\n",
      "    accuracy                           0.84      1184\n",
      "   macro avg       0.85      0.54      0.53      1184\n",
      "weighted avg       0.84      0.84      0.78      1184\n",
      "\n"
     ]
    }
   ],
   "source": [
    "print(classification_report(test_data2[\"sentiment\"], test_data2[\"sentiment_pred\"], target_names=target_names))"
   ]
  },
  {
   "cell_type": "code",
   "execution_count": 37,
   "id": "e891216c",
   "metadata": {},
   "outputs": [
    {
     "name": "stdout",
     "output_type": "stream",
     "text": [
      "              precision    recall  f1-score   support\n",
      "\n",
      "    negative       0.74      0.18      0.30       363\n",
      "    positive       0.77      0.98      0.86      1033\n",
      "\n",
      "    accuracy                           0.77      1396\n",
      "   macro avg       0.75      0.58      0.58      1396\n",
      "weighted avg       0.76      0.77      0.72      1396\n",
      "\n"
     ]
    }
   ],
   "source": [
    "print(classification_report(test_data3[\"sentiment\"], test_data3[\"sentiment_pred\"], target_names=target_names))"
   ]
  },
  {
   "cell_type": "code",
   "execution_count": null,
   "id": "f04b50bf",
   "metadata": {},
   "outputs": [],
   "source": [
    "\n"
   ]
  },
  {
   "cell_type": "code",
   "execution_count": 38,
   "id": "76c05caa",
   "metadata": {},
   "outputs": [
    {
     "data": {
      "text/plain": [
       "<AxesSubplot:>"
      ]
     },
     "execution_count": 38,
     "metadata": {},
     "output_type": "execute_result"
    },
    {
     "data": {
      "image/png": "[encoded data removed]",
      "text/plain": [
       "<Figure size 640x480 with 2 Axes>"
      ]
     },
     "metadata": {},
     "output_type": "display_data"
    }
   ],
   "source": [
    "import seaborn as sns\n",
    "from sklearn.metrics import confusion_matrix\n",
    "\n",
    "# Get true labels and predicted labels\n",
    "y_true = test_data1[\"sentiment\"]\n",
    "y_pred = test_data1[\"sentiment_pred\"]\n",
    "\n",
    "# Get confusion matrix\n",
    "cm = confusion_matrix(y_true, y_pred)\n",
    "\n",
    "# Plot confusion matrix with seaborn\n",
    "sns.heatmap(cm, annot=True, fmt='g', cmap=\"Blues\", xticklabels=target_names, yticklabels=target_names)"
   ]
  },
  {
   "cell_type": "code",
   "execution_count": 39,
   "id": "8f0dcc7d",
   "metadata": {},
   "outputs": [
    {
     "data": {
      "text/plain": [
       "<AxesSubplot:>"
      ]
     },
     "execution_count": 39,
     "metadata": {},
     "output_type": "execute_result"
    },
    {
     "data": {
      "image/png": "[encoded data removed]",
      "text/plain": [
       "<Figure size 640x480 with 2 Axes>"
      ]
     },
     "metadata": {},
     "output_type": "display_data"
    }
   ],
   "source": [
    "y_true = test_data2[\"sentiment\"]\n",
    "y_pred = test_data2[\"sentiment_pred\"]\n",
    "\n",
    "# Get confusion matrix\n",
    "cm = confusion_matrix(y_true, y_pred)\n",
    "\n",
    "# Plot confusion matrix with seaborn\n",
    "sns.heatmap(cm, annot=True, fmt='g', cmap=\"Blues\", xticklabels=target_names, yticklabels=target_names)\n"
   ]
  },
  {
   "cell_type": "code",
   "execution_count": 40,
   "id": "ae6838a1",
   "metadata": {},
   "outputs": [
    {
     "data": {
      "text/plain": [
       "<AxesSubplot:>"
      ]
     },
     "execution_count": 40,
     "metadata": {},
     "output_type": "execute_result"
    },
    {
     "data": {
      "image/png": "[encoded data removed]",
      "text/plain": [
       "<Figure size 640x480 with 2 Axes>"
      ]
     },
     "metadata": {},
     "output_type": "display_data"
    }
   ],
   "source": [
    "# Get true labels and predicted labels\n",
    "y_true = test_data3[\"sentiment\"]\n",
    "y_pred = test_data3[\"sentiment_pred\"]\n",
    "\n",
    "# Get confusion matrix\n",
    "cm = confusion_matrix(y_true, y_pred)\n",
    "\n",
    "# Plot confusion matrix with seaborn\n",
    "sns.heatmap(cm, annot=True, fmt='g', cmap=\"Blues\", xticklabels=target_names, yticklabels=target_names)\n"
   ]
  },
  {
   "cell_type": "markdown",
   "id": "c02ffef1",
   "metadata": {},
   "source": [
    "## SVM"
   ]
  },
  {
   "cell_type": "code",
   "execution_count": 41,
   "id": "7073fdb4",
   "metadata": {},
   "outputs": [
    {
     "name": "stdout",
     "output_type": "stream",
     "text": [
      "              precision    recall  f1-score   support\n",
      "\n",
      "    negative       0.86      0.79      0.82       378\n",
      "    positive       0.89      0.93      0.91       703\n",
      "\n",
      "    accuracy                           0.88      1081\n",
      "   macro avg       0.87      0.86      0.86      1081\n",
      "weighted avg       0.88      0.88      0.88      1081\n",
      "\n"
     ]
    }
   ],
   "source": [
    "from sklearn.svm import SVC\n",
    "from sklearn.metrics import classification_report\n",
    "\n",
    "# initialize SVM model with linear kernel\n",
    "svm_model = SVC(kernel='linear')\n",
    "\n",
    "# train the model on training data\n",
    "svm_model.fit(X_train, y_train)\n",
    "\n",
    "# predict on development set\n",
    "y_dev_pred = svm_model.predict(X_dev)\n",
    "\n",
    "# print classification report\n",
    "target_names = le.classes_.astype(str).tolist()\n",
    "print(classification_report(y_dev, y_dev_pred, target_names=target_names))"
   ]
  },
  {
   "cell_type": "code",
   "execution_count": 42,
   "id": "c8965f8e",
   "metadata": {},
   "outputs": [],
   "source": [
    "test_data1['sentiment_pred'] = svm_model.predict(vectorizer.transform(test_data1['clean_tweet_text']))\n",
    "test_data2['sentiment_pred'] = svm_model.predict(vectorizer.transform(test_data2['clean_tweet_text']))\n",
    "test_data3['sentiment_pred'] = svm_model.predict(vectorizer.transform(test_data3['clean_tweet_text']))"
   ]
  },
  {
   "cell_type": "code",
   "execution_count": 43,
   "id": "73c84218",
   "metadata": {},
   "outputs": [
    {
     "name": "stdout",
     "output_type": "stream",
     "text": [
      "              precision    recall  f1-score   support\n",
      "\n",
      "    negative       0.76      0.58      0.66       557\n",
      "    positive       0.85      0.93      0.89      1470\n",
      "\n",
      "    accuracy                           0.83      2027\n",
      "   macro avg       0.81      0.75      0.77      2027\n",
      "weighted avg       0.83      0.83      0.83      2027\n",
      "\n"
     ]
    }
   ],
   "source": [
    "from sklearn.metrics import classification_report\n",
    "print(classification_report(test_data1[\"sentiment\"], test_data1[\"sentiment_pred\"], target_names=target_names))"
   ]
  },
  {
   "cell_type": "code",
   "execution_count": 44,
   "id": "e7256805",
   "metadata": {},
   "outputs": [
    {
     "name": "stdout",
     "output_type": "stream",
     "text": [
      "              precision    recall  f1-score   support\n",
      "\n",
      "    negative       0.75      0.52      0.62       202\n",
      "    positive       0.91      0.96      0.94       982\n",
      "\n",
      "    accuracy                           0.89      1184\n",
      "   macro avg       0.83      0.74      0.78      1184\n",
      "weighted avg       0.88      0.89      0.88      1184\n",
      "\n"
     ]
    }
   ],
   "source": [
    "print(classification_report(test_data2[\"sentiment\"], test_data2[\"sentiment_pred\"], target_names=target_names))"
   ]
  },
  {
   "cell_type": "code",
   "execution_count": 45,
   "id": "0f5ae0e1",
   "metadata": {},
   "outputs": [
    {
     "name": "stdout",
     "output_type": "stream",
     "text": [
      "              precision    recall  f1-score   support\n",
      "\n",
      "    negative       0.66      0.61      0.63       363\n",
      "    positive       0.87      0.89      0.88      1033\n",
      "\n",
      "    accuracy                           0.82      1396\n",
      "   macro avg       0.77      0.75      0.76      1396\n",
      "weighted avg       0.81      0.82      0.82      1396\n",
      "\n"
     ]
    }
   ],
   "source": [
    "print(classification_report(test_data3[\"sentiment\"], test_data3[\"sentiment_pred\"], target_names=target_names))"
   ]
  },
  {
   "cell_type": "code",
   "execution_count": 46,
   "id": "7d6927e6",
   "metadata": {},
   "outputs": [
    {
     "data": {
      "text/plain": [
       "<AxesSubplot:>"
      ]
     },
     "execution_count": 46,
     "metadata": {},
     "output_type": "execute_result"
    },
    {
     "data": {
      "image/png": "[encoded data removed]",
      "text/plain": [
       "<Figure size 640x480 with 2 Axes>"
      ]
     },
     "metadata": {},
     "output_type": "display_data"
    }
   ],
   "source": [
    "# Get true labels and predicted labels\n",
    "y_true = test_data1[\"sentiment\"]\n",
    "y_pred = test_data1[\"sentiment_pred\"]\n",
    "\n",
    "# Get confusion matrix\n",
    "cm = confusion_matrix(y_true, y_pred)\n",
    "\n",
    "# Plot confusion matrix with seaborn\n",
    "sns.heatmap(cm, annot=True, fmt='g', cmap=\"Blues\", xticklabels=target_names, yticklabels=target_names)\n"
   ]
  },
  {
   "cell_type": "code",
   "execution_count": 47,
   "id": "56d3b693",
   "metadata": {},
   "outputs": [
    {
     "data": {
      "text/plain": [
       "<AxesSubplot:>"
      ]
     },
     "execution_count": 47,
     "metadata": {},
     "output_type": "execute_result"
    },
    {
     "data": {
      "image/png": "[encoded data removed]",
      "text/plain": [
       "<Figure size 640x480 with 2 Axes>"
      ]
     },
     "metadata": {},
     "output_type": "display_data"
    }
   ],
   "source": [
    "# Get true labels and predicted labels\n",
    "y_true = test_data2[\"sentiment\"]\n",
    "y_pred = test_data2[\"sentiment_pred\"]\n",
    "\n",
    "# Get confusion matrix\n",
    "cm = confusion_matrix(y_true, y_pred)\n",
    "\n",
    "# Plot confusion matrix with seaborn\n",
    "sns.heatmap(cm, annot=True, fmt='g', cmap=\"Blues\", xticklabels=target_names, yticklabels=target_names)\n"
   ]
  },
  {
   "cell_type": "code",
   "execution_count": 48,
   "id": "17d8f33f",
   "metadata": {},
   "outputs": [
    {
     "data": {
      "text/plain": [
       "<AxesSubplot:>"
      ]
     },
     "execution_count": 48,
     "metadata": {},
     "output_type": "execute_result"
    },
    {
     "data": {
      "image/png": "[encoded data removed]",
      "text/plain": [
       "<Figure size 640x480 with 2 Axes>"
      ]
     },
     "metadata": {},
     "output_type": "display_data"
    }
   ],
   "source": [
    "# Get true labels and predicted labels\n",
    "y_true = test_data3[\"sentiment\"]\n",
    "y_pred = test_data3[\"sentiment_pred\"]\n",
    "\n",
    "# Get confusion matrix\n",
    "cm = confusion_matrix(y_true, y_pred)\n",
    "\n",
    "# Plot confusion matrix with seaborn\n",
    "sns.heatmap(cm, annot=True, fmt='g', cmap=\"Blues\", xticklabels=target_names, yticklabels=target_names)\n"
   ]
  },
  {
   "cell_type": "code",
   "execution_count": null,
   "id": "087b43cd",
   "metadata": {},
   "outputs": [],
   "source": [
    "# !pip uninstall torchtext"
   ]
  },
  {
   "cell_type": "code",
   "execution_count": null,
   "id": "24603317",
   "metadata": {},
   "outputs": [],
   "source": [
    "# !pip install torchtext==0.10.0"
   ]
  },
  {
   "cell_type": "code",
   "execution_count": 49,
   "id": "aba7c5b9",
   "metadata": {},
   "outputs": [
    {
     "name": "stdout",
     "output_type": "stream",
     "text": [
      "0.10.0\n"
     ]
    }
   ],
   "source": [
    "import torch\n",
    "from torchtext import data, datasets\n",
    "import torchtext\n",
    "from torchtext.vocab import Vocab\n",
    "print(torchtext.__version__)\n"
   ]
  },
  {
   "cell_type": "code",
   "execution_count": null,
   "id": "b6f83991",
   "metadata": {},
   "outputs": [],
   "source": []
  },
  {
   "cell_type": "code",
   "execution_count": 50,
   "id": "3bd224ab",
   "metadata": {},
   "outputs": [],
   "source": [
    "from torchtext.legacy import data\n"
   ]
  },
  {
   "cell_type": "code",
   "execution_count": null,
   "id": "a2ffbce6",
   "metadata": {},
   "outputs": [],
   "source": []
  },
  {
   "cell_type": "code",
   "execution_count": null,
   "id": "931bd010",
   "metadata": {},
   "outputs": [],
   "source": [
    "# !pip install spacy"
   ]
  },
  {
   "cell_type": "code",
   "execution_count": null,
   "id": "5630600c",
   "metadata": {},
   "outputs": [],
   "source": [
    "# !python -m spacy download en_core_web_sm"
   ]
  },
  {
   "cell_type": "code",
   "execution_count": 51,
   "id": "7d1ae7ca",
   "metadata": {},
   "outputs": [],
   "source": [
    "import torch\n",
    "import torch.nn.functional as F\n",
    "from torchtext import data\n",
    "from torchtext import datasets\n",
    "import time\n",
    "import random\n",
    "\n",
    "torch.backends.cudnn.deterministic = True"
   ]
  },
  {
   "cell_type": "code",
   "execution_count": 60,
   "id": "1c0c17fe",
   "metadata": {},
   "outputs": [],
   "source": [
    "TEXT = data.Field(tokenize='spacy')\n",
    "LABEL = data.LabelField(dtype=torch.float)\n",
    "\n",
    "# create the training, validation, and test datasets\n",
    "train_data = data.TabularDataset(\n",
    "    path='twitter-training-data.txt',\n",
    "    format='tsv',\n",
    "    fields=[('clean_tweet_text', TEXT), ('label', LABEL)]\n",
    ")\n",
    "\n",
    "dev_data = data.TabularDataset(\n",
    "    path='twitter-dev-data.txt',\n",
    "    format='tsv',\n",
    "    fields=[('clean_tweet_text', TEXT), ('label', LABEL)]\n",
    ")\n",
    "\n",
    "test_data1 = data.TabularDataset(\n",
    "    path='twitter-test1.txt',\n",
    "    format='tsv',\n",
    "    fields=[('clean_tweet_text', TEXT), ('label', None)]\n",
    ")\n",
    "\n",
    "test_data2 = data.TabularDataset(\n",
    "    path='twitter-test2.txt',\n",
    "    format='tsv',\n",
    "    fields=[('clean_tweet_text', TEXT), ('label', None)]\n",
    ")\n",
    "\n",
    "test_data3 = data.TabularDataset(\n",
    "    path='twitter-test3.txt',\n",
    "    format='tsv',\n",
    "    fields=[('clean_tweet_text', TEXT), ('label', None)]\n",
    ")"
   ]
  },
  {
   "cell_type": "code",
   "execution_count": 61,
   "id": "771b7a3d",
   "metadata": {},
   "outputs": [],
   "source": [
    "RANDOM_SEED = 123\n",
    "torch.manual_seed(RANDOM_SEED)\n",
    "\n",
    "VOCABULARY_SIZE = 5000\n",
    "LEARNING_RATE = 1e-4\n",
    "BATCH_SIZE = 128\n",
    "NUM_EPOCHS = 15\n",
    "DEVICE = torch.device('cuda' if torch.cuda.is_available() else 'cpu')\n",
    "\n",
    "EMBEDDING_DIM = 100\n",
    "HIDDEN_DIM = 256\n",
    "OUTPUT_DIM = 1"
   ]
  },
  {
   "cell_type": "code",
   "execution_count": 62,
   "id": "8664915d",
   "metadata": {},
   "outputs": [],
   "source": [
    "# !pip install torchtext\n",
    "# from torchtext.data import Field, LabelField\n",
    "from torchtext.legacy.data import Field, LabelField, BucketIterator\n",
    "from torchtext import datasets\n",
    "from torchtext.datasets import IMDB\n",
    "from torchtext.legacy import data"
   ]
  },
  {
   "cell_type": "code",
   "execution_count": 63,
   "id": "049ad667",
   "metadata": {},
   "outputs": [],
   "source": [
    "train_data = train_data\n",
    "valid_data = dev_data\n",
    "test_data = test_data1\n"
   ]
  },
  {
   "cell_type": "code",
   "execution_count": 64,
   "id": "502864d5",
   "metadata": {},
   "outputs": [
    {
     "data": {
      "text/plain": [
       "<torchtext.legacy.data.dataset.TabularDataset at 0x1e1e69b62e0>"
      ]
     },
     "execution_count": 64,
     "metadata": {},
     "output_type": "execute_result"
    }
   ],
   "source": [
    "train_data"
   ]
  },
  {
   "cell_type": "code",
   "execution_count": 65,
   "id": "02949eff",
   "metadata": {},
   "outputs": [],
   "source": [
    "train_loader, valid_loader, test_loader = torchtext.legacy.data.BucketIterator.splits(\n",
    "    (train_data, valid_data, test_data), \n",
    "    batch_size=BATCH_SIZE, \n",
    "    device=DEVICE,\n",
    "    sort_key=lambda x: len(x.text)\n",
    ")"
   ]
  },
  {
   "cell_type": "code",
   "execution_count": 66,
   "id": "3bd5464b",
   "metadata": {},
   "outputs": [],
   "source": [
    "import torch.nn as nn\n",
    "\n",
    "class RNN(nn.Module):\n",
    "    def __init__(self, input_dim, embedding_dim, hidden_dim, output_dim):\n",
    "        \n",
    "        super().__init__()\n",
    "        \n",
    "        self.embedding = nn.Embedding(input_dim, embedding_dim)\n",
    "        self.rnn = nn.LSTM(embedding_dim, hidden_dim)\n",
    "        self.fc = nn.Linear(hidden_dim, output_dim)\n",
    "        \n",
    "    def forward(self, text, text_length):\n",
    "\n",
    "        #[sentence len, batch size] => [sentence len, batch size, embedding size]\n",
    "        embedded = self.embedding(text)\n",
    "        \n",
    "        packed = torch.nn.utils.rnn.pack_padded_sequence(embedded, text_length)\n",
    "        \n",
    "        #[sentence len, batch size, embedding size] => \n",
    "        #  output: [sentence len, batch size, hidden size]\n",
    "        #  hidden: [1, batch size, hidden size]\n",
    "        packed_output, (hidden, cell) = self.rnn(packed)\n",
    "        \n",
    "        return self.fc(hidden.squeeze(0)).view(-1)"
   ]
  },
  {
   "cell_type": "code",
   "execution_count": 67,
   "id": "2f6b6af2",
   "metadata": {},
   "outputs": [],
   "source": [
    "# define the path to the GloVe embedding file\n",
    "glove_path = 'glove.6B.100d.txt'\n",
    "\n",
    "# load the pre-trained embeddings\n",
    "vectors = torchtext.vocab.Vectors(name=glove_path)\n",
    "\n",
    "# build the vocabulary using the training data and the pre-trained embeddings\n",
    "TEXT.build_vocab(train_data, max_size=VOCABULARY_SIZE, vectors=vectors, unk_init=torch.Tensor.normal_)\n",
    "LABEL.build_vocab(train_data)\n",
    "\n",
    "# get the input dimension from the length of the vocabulary\n",
    "INPUT_DIM = len(TEXT.vocab)\n",
    "\n",
    "# create the model\n",
    "torch.manual_seed(RANDOM_SEED)\n",
    "model = RNN(INPUT_DIM, EMBEDDING_DIM, HIDDEN_DIM, OUTPUT_DIM)\n",
    "model = model.to(DEVICE)\n",
    "optimizer = torch.optim.Adam(model.parameters(), lr=LEARNING_RATE)\n"
   ]
  },
  {
   "cell_type": "code",
   "execution_count": 68,
   "id": "939443af",
   "metadata": {},
   "outputs": [],
   "source": [
    "def compute_binary_accuracy(model, data_loader, device):\n",
    "    model.eval()\n",
    "    correct_pred, num_examples = 0, 0\n",
    "    with torch.no_grad():\n",
    "        for batch_idx, batch_data in enumerate(data_loader):\n",
    "            text, text_lengths = batch_data.text\n",
    "            logits = model(text, text_lengths)\n",
    "            predicted_labels = (torch.sigmoid(logits) > 0.5).long()\n",
    "            num_examples += batch_data.label.size(0)\n",
    "            correct_pred += (predicted_labels == batch_data.label.long()).sum()\n",
    "        return correct_pred.float()/num_examples * 100"
   ]
  },
  {
   "cell_type": "code",
   "execution_count": null,
   "id": "3d1bbe1a",
   "metadata": {},
   "outputs": [],
   "source": [
    "# print(batch_data.fields)"
   ]
  },
  {
   "cell_type": "code",
   "execution_count": null,
   "id": "36b5b03f",
   "metadata": {},
   "outputs": [],
   "source": [
    "# type(batch_data.clean_tweet_text)"
   ]
  },
  {
   "cell_type": "code",
   "execution_count": 69,
   "id": "67a125ed",
   "metadata": {},
   "outputs": [],
   "source": [
    "# def train(model, iterator, optimizer, criterion):\n",
    "#     model.train()\n",
    "#     for batch in iterator:\n",
    "#         text, text_lengths = batch.text\n",
    "#         batch_size = text.shape[1]  # Get the batch size\n",
    "        \n",
    "#         # Reshape text_lengths to match batch size\n",
    "#         text_lengths = text_lengths.view(-1)\n",
    "        \n",
    "#         optimizer.zero_grad()\n",
    "#         predictions = model(text, text_lengths).squeeze(1)\n",
    "#         loss = criterion(predictions, batch.label.float())\n",
    "#         loss.backward()\n",
    "#         optimizer.step()\n",
    "\n",
    "def train(model, iterator, optimizer, criterion):\n",
    "    model.train()\n",
    "    model.embedding.weight.requires_grad = False  # Freeze the embedding layer\n",
    "    for batch in iterator:\n",
    "        text, text_lengths = batch.text\n",
    "        batch_size = text.shape[1]  # Get the batch size\n",
    "        \n",
    "        # Reshape text_lengths to match batch size\n",
    "        text_lengths = text_lengths.view(-1)\n",
    "        \n",
    "        optimizer.zero_grad()\n",
    "        predictions = model(text, text_lengths).squeeze(1)\n",
    "        loss = criterion(predictions, batch.label.float())\n",
    "        loss.backward()\n",
    "        optimizer.step()"
   ]
  },
  {
   "cell_type": "code",
   "execution_count": 70,
   "id": "4d66274f",
   "metadata": {},
   "outputs": [],
   "source": [
    "import torch\n",
    "from torch.utils.data import DataLoader\n",
    "\n",
    "def collate_fn(batch):\n",
    "    texts, labels = zip(*batch)\n",
    "    # Convert the text data into padded sequences of the same length\n",
    "    text_lengths = [len(text) for text in texts]\n",
    "    max_length = max(text_lengths)\n",
    "    padded_texts = []\n",
    "    for text in texts:\n",
    "        padded_text = text + [0] * (max_length - len(text))\n",
    "        padded_texts.append(padded_text)\n",
    "    # Convert the labels into a tensor\n",
    "    labels = torch.tensor(labels)\n",
    "    # Convert the padded text sequences into a tensor\n",
    "    padded_texts = torch.tensor(padded_texts)\n",
    "    # Return the padded text sequences and labels\n",
    "    return padded_texts, text_lengths, labels\n",
    "\n",
    "# Create a DataLoader with the collate_fn\n",
    "train_loader = DataLoader(train_data, batch_size=128, collate_fn=collate_fn)\n"
   ]
  },
  {
   "cell_type": "code",
   "execution_count": 84,
   "id": "6ef0d0cb",
   "metadata": {},
   "outputs": [
    {
     "name": "stdout",
     "output_type": "stream",
     "text": [
      "This movie was terrible. --> negative\n",
      "I loved this book! --> positive\n",
      "The food was average. --> positive\n",
      "The service at this restaurant was terrible. --> negative\n",
      "I had a fantastic time on my vacation. --> positive\n",
      "I'm so disappointed with this product. --> negative\n",
      "I'm really impressed with the customer service. --> positive\n",
      "The weather today is absolutely gorgeous. --> positive\n",
      "This traffic is driving me crazy. --> positive\n",
      "I don't like this new song. --> negative\n",
      "The museum exhibit was fascinating. --> positive\n",
      "I feel so relaxed after my massage. --> positive\n",
      "This store has great sales. --> positive\n",
      "I can't believe how expensive this is. --> negative\n",
      "The performance was lackluster. --> negative\n",
      "I'm really enjoying this book so far. --> positive\n",
      "This app keeps crashing on me. --> positive\n",
      "The coffee here is just okay. --> positive\n",
      "I'm so excited for the concert tonight! --> positive\n",
      "The hotel room was dirty and uncomfortable. --> negative\n"
     ]
    }
   ],
   "source": [
    "import transformers\n",
    "import torch\n",
    "\n",
    "# Load the pre-trained model and tokenizer\n",
    "model_name = \"distilbert-base-uncased-finetuned-sst-2-english\"\n",
    "tokenizer = transformers.DistilBertTokenizer.from_pretrained(model_name)\n",
    "model = transformers.DistilBertForSequenceClassification.from_pretrained(model_name)\n",
    "\n",
    "# Define a function to predict the sentiment of a given sentence\n",
    "def predict_sentiment(sentence):\n",
    "    # Tokenize the sentence\n",
    "    tokens = tokenizer.tokenize(sentence)\n",
    "    # Convert the tokens to numerical IDs\n",
    "    indexed_tokens = [tokenizer.cls_token_id] + tokenizer.convert_tokens_to_ids(tokens) + [tokenizer.sep_token_id]\n",
    "    # Convert the sequence of IDs to a tensor\n",
    "    tokens_tensor = torch.tensor([indexed_tokens])\n",
    "    # Use the model to predict the sentiment\n",
    "    with torch.no_grad():\n",
    "        output = model(tokens_tensor)\n",
    "        logits = output[0][0]\n",
    "        probabilities = torch.softmax(logits, dim=0)\n",
    "        prediction = torch.argmax(probabilities).item()\n",
    "    return prediction\n",
    "\n",
    "# Test the function on some example sentences\n",
    "sentences = [\n",
    "    \"This movie was terrible.\", # negative\n",
    "    \"I loved this book!\", # positive\n",
    "    \"The food was average.\", # neutral\n",
    "    \"The service at this restaurant was terrible.\", # negative\n",
    "    \"I had a fantastic time on my vacation.\", # positive\n",
    "    \"I'm so disappointed with this product.\", # negative\n",
    "    \"I'm really impressed with the customer service.\", # positive\n",
    "    \"The weather today is absolutely gorgeous.\", # positive\n",
    "    \"This traffic is driving me crazy.\", # negative\n",
    "    \"I don't like this new song.\", # negative\n",
    "    \"The museum exhibit was fascinating.\", # positive\n",
    "    \"I feel so relaxed after my massage.\", # positive\n",
    "    \"This store has great sales.\", # positive\n",
    "    \"I can't believe how expensive this is.\", # negative\n",
    "    \"The performance was lackluster.\", # negative\n",
    "    \"I'm really enjoying this book so far.\", # positive\n",
    "    \"This app keeps crashing on me.\", # negative\n",
    "    \"The coffee here is just okay.\", # neutral\n",
    "    \"I'm so excited for the concert tonight!\", # positive\n",
    "    \"The hotel room was dirty and uncomfortable.\" # negative\n",
    "]\n",
    "\n",
    "labels = ['negative', 'positive', 'neutral', 'negative', 'positive', 'negative', 'positive', 'positive', 'negative', 'negative', 'positive', 'positive', 'positive', 'negative', 'negative', 'positive', 'negative', 'neutral', 'positive', 'negative']\n",
    "# Make predictions for each sentence\n",
    "predicted_labels = []\n",
    "for sentence in sentences:\n",
    "    prediction = predict_sentiment(sentence)\n",
    "    predicted_label = 'positive' if prediction == 1 else 'negative'\n",
    "    predicted_labels.append(predicted_label)\n",
    "    print(f\"{sentence} --> {predicted_label}\")"
   ]
  },
  {
   "cell_type": "code",
   "execution_count": 85,
   "id": "9aefd1c3",
   "metadata": {},
   "outputs": [
    {
     "data": {
      "image/png": "[encoded data removed]",
      "text/plain": [
       "<Figure size 640x480 with 2 Axes>"
      ]
     },
     "metadata": {},
     "output_type": "display_data"
    }
   ],
   "source": [
    "import seaborn as sns\n",
    "import matplotlib.pyplot as plt\n",
    "\n",
    "cm = confusion_matrix(labels, predicted_labels, labels=['positive', 'negative'])\n",
    "ax = sns.heatmap(cm, annot=True, fmt='d', cmap='Blues')\n",
    "ax.set_xlabel('Predicted labels')\n",
    "ax.set_ylabel('True labels')\n",
    "ax.set_title('Confusion Matrix')\n",
    "ax.xaxis.set_ticklabels(['positive', 'negative'])\n",
    "ax.yaxis.set_ticklabels(['positive', 'negative'])\n",
    "plt.show()"
   ]
  }
 ],
 "metadata": {
  "kernelspec": {
   "display_name": "Python 3 (ipykernel)",
   "language": "python",
   "name": "python3"
  },
  "language_info": {
   "codemirror_mode": {
    "name": "ipython",
    "version": 3
   },
   "file_extension": ".py",
   "mimetype": "text/x-python",
   "name": "python",
   "nbconvert_exporter": "python",
   "pygments_lexer": "ipython3",
   "version": "3.9.13"
  }
 },
 "nbformat": 4,
 "nbformat_minor": 5
}
